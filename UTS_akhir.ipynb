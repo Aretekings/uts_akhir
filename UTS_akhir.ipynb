{
 "cells": [
  {
   "cell_type": "code",
   "execution_count": 19,
   "id": "7ee8dd6c",
   "metadata": {},
   "outputs": [
    {
     "name": "stdout",
     "output_type": "stream",
     "text": [
      "Panjang Persegi Panjang : 10\n",
      "Lebar Persegi Panjang : 10\n",
      "\n",
      "Hasil dari perhitungan tersebut :\n",
      "Keliling :  40.0\n",
      "Luas     :  100.0\n"
     ]
    }
   ],
   "source": [
    "P = float(input(\"Panjang Persegi Panjang : \"))\n",
    "L = float(input(\"Lebar Persegi Panjang : \"))\n",
    "\n",
    "def perhitungan(P, L):\n",
    "    k = (2*P)+(2*L)\n",
    "    l = (P*L)\n",
    "    \n",
    "    print(\"\\nHasil dari perhitungan tersebut :\")\n",
    "    print(\"Keliling : \", k)\n",
    "    print(\"Luas     : \", l)\n",
    "\n",
    "    \n",
    "perhitungan(P,L)"
   ]
  },
  {
   "cell_type": "code",
   "execution_count": 5,
   "id": "7bb1101d",
   "metadata": {},
   "outputs": [
    {
     "name": "stdout",
     "output_type": "stream",
     "text": [
      "Nama   : suhendri\n",
      "Alamat : jln. adisucipto\n",
      "NIM    : 202102257\n",
      "\n",
      "\n",
      "Berikut adalah data diri yang telah di input \n",
      "Nama   :  suhendri\n",
      "Alamat :  jln. adisucipto\n",
      "NIM    :  202102257\n"
     ]
    }
   ],
   "source": [
    "class biodata():\n",
    "    def _init_(self,nama,alamat, nim):\n",
    "        \n",
    "        print(\"Inputkan Biodata Anda\")\n",
    "        \n",
    "    def input(self):\n",
    "        self.nama = input(\"Nama   : \")\n",
    "        self.alamat = input(\"Alamat : \")\n",
    "        self.nim = input(\"NIM    : \")\n",
    "        \n",
    "class datadiri(biodata):\n",
    "    def cetak(self):\n",
    "        print (\"\\n\\nBerikut adalah data diri yang telah di input \")\n",
    "        print (\"Nama   : \", self.nama)\n",
    "        print (\"Alamat : \", self.alamat)\n",
    "        print (\"NIM    : \", self.nim)\n",
    "        \n",
    "data = datadiri()\n",
    "data.input()\n",
    "data.cetak()"
   ]
  },
  {
   "cell_type": "code",
   "execution_count": null,
   "id": "4ebd38cc",
   "metadata": {},
   "outputs": [
    {
     "name": "stdout",
     "output_type": "stream",
     "text": [
      "1. +\n",
      "2. -\n",
      "3. x\n",
      "4. :\n",
      "5. Keluar\n",
      "Pilih operasi (angka) :3\n",
      "\n",
      "Masukkan Angka Pertama :10\n",
      "\n",
      "Masukkan Angka Kedua   :10\n",
      "10 x 10 = 100\n",
      "1. +\n",
      "2. -\n",
      "3. x\n",
      "4. :\n",
      "5. Keluar\n"
     ]
    }
   ],
   "source": [
    "class calculator:\n",
    "    def tambah(self, x, y):\n",
    "        return x+y\n",
    "    def kurang(self, x, y):\n",
    "        return x-y\n",
    "    def kali(self, x, y):\n",
    "        return x*y\n",
    "    def bagi(self, x, y):\n",
    "        return x/y\n",
    "    \n",
    "kalkulator = calculator()\n",
    "\n",
    "while True:\n",
    "    print(\"1. +\")\n",
    "    print(\"2. -\")\n",
    "    print(\"3. x\")\n",
    "    print(\"4. :\")\n",
    "    print(\"5. Keluar\")\n",
    "    \n",
    "    ch = int(input(\"Pilih operasi (angka) :\"))\n",
    "    \n",
    "    if ch in (1, 2, 3, 4, 5):\n",
    "        if(ch==5):\n",
    "            break\n",
    "            \n",
    "        x = int(input(\"\\nMasukkan Angka Pertama :\"))\n",
    "        y = int(input(\"\\nMasukkan Angka Kedua   :\"))\n",
    "        \n",
    "        if(ch==1):\n",
    "            print(x, \"+\", y, \"=\", kalkulator.tambah(x,y))\n",
    "            \n",
    "        elif(ch==2):\n",
    "            print(x, \"-\", y, \"=\", kalkulator.kurang(x,y))\n",
    "            \n",
    "        elif(ch==3):\n",
    "            print(x, \"x\", y, \"=\", kalkulator.kali(x,y))\n",
    "            \n",
    "        elif(ch==4):\n",
    "            print(x, \":\", y, \"=\", kalkulator.bagi(x,y))\n",
    "            \n",
    "    else:\n",
    "        print(\"Invalid Input\")"
   ]
  },
  {
   "cell_type": "code",
   "execution_count": null,
   "id": "870e78c8",
   "metadata": {},
   "outputs": [],
   "source": []
  },
  {
   "cell_type": "code",
   "execution_count": null,
   "id": "9d47c36f",
   "metadata": {},
   "outputs": [],
   "source": []
  }
 ],
 "metadata": {
  "kernelspec": {
   "display_name": "Python 3",
   "language": "python",
   "name": "python3"
  },
  "language_info": {
   "codemirror_mode": {
    "name": "ipython",
    "version": 3
   },
   "file_extension": ".py",
   "mimetype": "text/x-python",
   "name": "python",
   "nbconvert_exporter": "python",
   "pygments_lexer": "ipython3",
   "version": "3.8.8"
  }
 },
 "nbformat": 4,
 "nbformat_minor": 5
}
